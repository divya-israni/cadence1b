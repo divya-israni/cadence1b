{
  "cells": [
    {
      "cell_type": "markdown",
      "metadata": {
        "id": "view-in-github",
        "colab_type": "text"
      },
      "source": [
        "<a href=\"https://colab.research.google.com/github/divya-israni/cadence1b/blob/main/Resume_September.ipynb\" target=\"_parent\"><img src=\"https://colab.research.google.com/assets/colab-badge.svg\" alt=\"Open In Colab\"/></a>"
      ]
    },
    {
      "cell_type": "markdown",
      "id": "b32263c7",
      "metadata": {
        "id": "b32263c7"
      },
      "source": [
        "\n",
        "# AI Assisted Recruitment September Tasks for Resume data\n",
        "\n",
        "This notebook focuses only on your provided Resume dataset and mirrors common lab steps for data understanding and preparation.\n",
        "\n",
        "**Outputs created**\n",
        "- Resume_clean.csv\n",
        "- Resume_train.csv\n",
        "- Resume_test.csv\n",
        "- Resume_sample.csv\n",
        "- label_map.json when Category exists\n",
        "- eda_resume_length.png\n",
        "- eda_category_distribution.png\n",
        "- resume_cleaning_report.json\n"
      ]
    },
    {
      "cell_type": "markdown",
      "id": "5bd3f539",
      "metadata": {
        "id": "5bd3f539"
      },
      "source": [
        "\n",
        "## Setup\n",
        "\n",
        "Pick one method to bring the CSV into Colab and set the paths.\n"
      ]
    },
    {
      "cell_type": "code",
      "source": [
        "# manual csv upload\n",
        "from google.colab import files\n",
        "uploaded = files.upload()\n",
        "INPUT_CSV = \"Resume.csv\""
      ],
      "metadata": {
        "id": "4bTpYbzKDx8c",
        "colab": {
          "base_uri": "https://localhost:8080/",
          "height": 38
        },
        "outputId": "388781d9-8ffb-4984-b7bc-82900742f919"
      },
      "id": "4bTpYbzKDx8c",
      "execution_count": null,
      "outputs": [
        {
          "data": {
            "text/html": [
              "\n",
              "     <input type=\"file\" id=\"files-43498e91-5611-4b59-b2dc-7e19eb39b5d9\" name=\"files[]\" multiple disabled\n",
              "        style=\"border:none\" />\n",
              "     <output id=\"result-43498e91-5611-4b59-b2dc-7e19eb39b5d9\">\n",
              "      Upload widget is only available when the cell has been executed in the\n",
              "      current browser session. Please rerun this cell to enable.\n",
              "      </output>\n",
              "      <script>// Copyright 2017 Google LLC\n",
              "//\n",
              "// Licensed under the Apache License, Version 2.0 (the \"License\");\n",
              "// you may not use this file except in compliance with the License.\n",
              "// You may obtain a copy of the License at\n",
              "//\n",
              "//      http://www.apache.org/licenses/LICENSE-2.0\n",
              "//\n",
              "// Unless required by applicable law or agreed to in writing, software\n",
              "// distributed under the License is distributed on an \"AS IS\" BASIS,\n",
              "// WITHOUT WARRANTIES OR CONDITIONS OF ANY KIND, either express or implied.\n",
              "// See the License for the specific language governing permissions and\n",
              "// limitations under the License.\n",
              "\n",
              "/**\n",
              " * @fileoverview Helpers for google.colab Python module.\n",
              " */\n",
              "(function(scope) {\n",
              "function span(text, styleAttributes = {}) {\n",
              "  const element = document.createElement('span');\n",
              "  element.textContent = text;\n",
              "  for (const key of Object.keys(styleAttributes)) {\n",
              "    element.style[key] = styleAttributes[key];\n",
              "  }\n",
              "  return element;\n",
              "}\n",
              "\n",
              "// Max number of bytes which will be uploaded at a time.\n",
              "const MAX_PAYLOAD_SIZE = 100 * 1024;\n",
              "\n",
              "function _uploadFiles(inputId, outputId) {\n",
              "  const steps = uploadFilesStep(inputId, outputId);\n",
              "  const outputElement = document.getElementById(outputId);\n",
              "  // Cache steps on the outputElement to make it available for the next call\n",
              "  // to uploadFilesContinue from Python.\n",
              "  outputElement.steps = steps;\n",
              "\n",
              "  return _uploadFilesContinue(outputId);\n",
              "}\n",
              "\n",
              "// This is roughly an async generator (not supported in the browser yet),\n",
              "// where there are multiple asynchronous steps and the Python side is going\n",
              "// to poll for completion of each step.\n",
              "// This uses a Promise to block the python side on completion of each step,\n",
              "// then passes the result of the previous step as the input to the next step.\n",
              "function _uploadFilesContinue(outputId) {\n",
              "  const outputElement = document.getElementById(outputId);\n",
              "  const steps = outputElement.steps;\n",
              "\n",
              "  const next = steps.next(outputElement.lastPromiseValue);\n",
              "  return Promise.resolve(next.value.promise).then((value) => {\n",
              "    // Cache the last promise value to make it available to the next\n",
              "    // step of the generator.\n",
              "    outputElement.lastPromiseValue = value;\n",
              "    return next.value.response;\n",
              "  });\n",
              "}\n",
              "\n",
              "/**\n",
              " * Generator function which is called between each async step of the upload\n",
              " * process.\n",
              " * @param {string} inputId Element ID of the input file picker element.\n",
              " * @param {string} outputId Element ID of the output display.\n",
              " * @return {!Iterable<!Object>} Iterable of next steps.\n",
              " */\n",
              "function* uploadFilesStep(inputId, outputId) {\n",
              "  const inputElement = document.getElementById(inputId);\n",
              "  inputElement.disabled = false;\n",
              "\n",
              "  const outputElement = document.getElementById(outputId);\n",
              "  outputElement.innerHTML = '';\n",
              "\n",
              "  const pickedPromise = new Promise((resolve) => {\n",
              "    inputElement.addEventListener('change', (e) => {\n",
              "      resolve(e.target.files);\n",
              "    });\n",
              "  });\n",
              "\n",
              "  const cancel = document.createElement('button');\n",
              "  inputElement.parentElement.appendChild(cancel);\n",
              "  cancel.textContent = 'Cancel upload';\n",
              "  const cancelPromise = new Promise((resolve) => {\n",
              "    cancel.onclick = () => {\n",
              "      resolve(null);\n",
              "    };\n",
              "  });\n",
              "\n",
              "  // Wait for the user to pick the files.\n",
              "  const files = yield {\n",
              "    promise: Promise.race([pickedPromise, cancelPromise]),\n",
              "    response: {\n",
              "      action: 'starting',\n",
              "    }\n",
              "  };\n",
              "\n",
              "  cancel.remove();\n",
              "\n",
              "  // Disable the input element since further picks are not allowed.\n",
              "  inputElement.disabled = true;\n",
              "\n",
              "  if (!files) {\n",
              "    return {\n",
              "      response: {\n",
              "        action: 'complete',\n",
              "      }\n",
              "    };\n",
              "  }\n",
              "\n",
              "  for (const file of files) {\n",
              "    const li = document.createElement('li');\n",
              "    li.append(span(file.name, {fontWeight: 'bold'}));\n",
              "    li.append(span(\n",
              "        `(${file.type || 'n/a'}) - ${file.size} bytes, ` +\n",
              "        `last modified: ${\n",
              "            file.lastModifiedDate ? file.lastModifiedDate.toLocaleDateString() :\n",
              "                                    'n/a'} - `));\n",
              "    const percent = span('0% done');\n",
              "    li.appendChild(percent);\n",
              "\n",
              "    outputElement.appendChild(li);\n",
              "\n",
              "    const fileDataPromise = new Promise((resolve) => {\n",
              "      const reader = new FileReader();\n",
              "      reader.onload = (e) => {\n",
              "        resolve(e.target.result);\n",
              "      };\n",
              "      reader.readAsArrayBuffer(file);\n",
              "    });\n",
              "    // Wait for the data to be ready.\n",
              "    let fileData = yield {\n",
              "      promise: fileDataPromise,\n",
              "      response: {\n",
              "        action: 'continue',\n",
              "      }\n",
              "    };\n",
              "\n",
              "    // Use a chunked sending to avoid message size limits. See b/62115660.\n",
              "    let position = 0;\n",
              "    do {\n",
              "      const length = Math.min(fileData.byteLength - position, MAX_PAYLOAD_SIZE);\n",
              "      const chunk = new Uint8Array(fileData, position, length);\n",
              "      position += length;\n",
              "\n",
              "      const base64 = btoa(String.fromCharCode.apply(null, chunk));\n",
              "      yield {\n",
              "        response: {\n",
              "          action: 'append',\n",
              "          file: file.name,\n",
              "          data: base64,\n",
              "        },\n",
              "      };\n",
              "\n",
              "      let percentDone = fileData.byteLength === 0 ?\n",
              "          100 :\n",
              "          Math.round((position / fileData.byteLength) * 100);\n",
              "      percent.textContent = `${percentDone}% done`;\n",
              "\n",
              "    } while (position < fileData.byteLength);\n",
              "  }\n",
              "\n",
              "  // All done.\n",
              "  yield {\n",
              "    response: {\n",
              "      action: 'complete',\n",
              "    }\n",
              "  };\n",
              "}\n",
              "\n",
              "scope.google = scope.google || {};\n",
              "scope.google.colab = scope.google.colab || {};\n",
              "scope.google.colab._files = {\n",
              "  _uploadFiles,\n",
              "  _uploadFilesContinue,\n",
              "};\n",
              "})(self);\n",
              "</script> "
            ],
            "text/plain": [
              "<IPython.core.display.HTML object>"
            ]
          },
          "metadata": {},
          "output_type": "display_data"
        }
      ]
    },
    {
      "cell_type": "code",
      "execution_count": null,
      "id": "543f5495",
      "metadata": {
        "id": "543f5495"
      },
      "outputs": [],
      "source": [
        "# Defaults for Colab runtime\n",
        "INPUT_CSV = \"/content/Resume.csv\"\n",
        "OUT_DIR = \"/content\"\n",
        "\n",
        "%matplotlib inline\n"
      ]
    },
    {
      "cell_type": "markdown",
      "id": "0a5021ae",
      "metadata": {
        "id": "0a5021ae"
      },
      "source": [
        "\n",
        "## Imports\n"
      ]
    },
    {
      "cell_type": "code",
      "execution_count": null,
      "id": "764d139c",
      "metadata": {
        "id": "764d139c"
      },
      "outputs": [],
      "source": [
        "\n",
        "import os\n",
        "import re\n",
        "import json\n",
        "from typing import List, Tuple\n",
        "\n",
        "import numpy as np\n",
        "import pandas as pd\n",
        "import matplotlib.pyplot as plt\n"
      ]
    },
    {
      "cell_type": "code",
      "source": [
        "# Load the dataset\n",
        "df = pd.read_csv(\"Resume.csv\", encoding=\"utf-8\")\n",
        "\n",
        "# Preview first rows\n",
        "print(\"Preview of dataset:\")\n",
        "display(df.head())\n",
        "\n",
        "# Shape of the dataset\n",
        "print(\"\\nShape of dataset:\", df.shape)\n",
        "\n",
        "# Column info\n",
        "print(\"\\nColumn information:\")\n",
        "print(df.info())\n",
        "\n",
        "# Check for missing values\n",
        "print(\"\\nMissing values per column:\")\n",
        "print(df.isna().sum())\n",
        "\n",
        "# Look at duplicate rows\n",
        "print(\"\\nNumber of duplicate rows:\", df.duplicated().sum())\n",
        "\n",
        "# Quick look at category distribution if present\n",
        "if \"Category\" in df.columns:\n",
        "    print(\"\\nCategory distribution:\")\n",
        "    print(df[\"Category\"].value_counts())"
      ],
      "metadata": {
        "colab": {
          "base_uri": "https://localhost:8080/",
          "height": 356
        },
        "id": "QAFlMPlUEoF0",
        "outputId": "9762145e-dea1-4147-b65a-cc48b5198fb2"
      },
      "id": "QAFlMPlUEoF0",
      "execution_count": null,
      "outputs": [
        {
          "output_type": "error",
          "ename": "FileNotFoundError",
          "evalue": "[Errno 2] No such file or directory: 'Resume.csv'",
          "traceback": [
            "\u001b[0;31m---------------------------------------------------------------------------\u001b[0m",
            "\u001b[0;31mFileNotFoundError\u001b[0m                         Traceback (most recent call last)",
            "\u001b[0;32m/tmp/ipython-input-2882972583.py\u001b[0m in \u001b[0;36m<cell line: 0>\u001b[0;34m()\u001b[0m\n\u001b[1;32m      1\u001b[0m \u001b[0;31m# Load the dataset\u001b[0m\u001b[0;34m\u001b[0m\u001b[0;34m\u001b[0m\u001b[0m\n\u001b[0;32m----> 2\u001b[0;31m \u001b[0mdf\u001b[0m \u001b[0;34m=\u001b[0m \u001b[0mpd\u001b[0m\u001b[0;34m.\u001b[0m\u001b[0mread_csv\u001b[0m\u001b[0;34m(\u001b[0m\u001b[0;34m\"Resume.csv\"\u001b[0m\u001b[0;34m,\u001b[0m \u001b[0mencoding\u001b[0m\u001b[0;34m=\u001b[0m\u001b[0;34m\"utf-8\"\u001b[0m\u001b[0;34m)\u001b[0m\u001b[0;34m\u001b[0m\u001b[0;34m\u001b[0m\u001b[0m\n\u001b[0m\u001b[1;32m      3\u001b[0m \u001b[0;34m\u001b[0m\u001b[0m\n\u001b[1;32m      4\u001b[0m \u001b[0;31m# Preview first rows\u001b[0m\u001b[0;34m\u001b[0m\u001b[0;34m\u001b[0m\u001b[0m\n\u001b[1;32m      5\u001b[0m \u001b[0mprint\u001b[0m\u001b[0;34m(\u001b[0m\u001b[0;34m\"Preview of dataset:\"\u001b[0m\u001b[0;34m)\u001b[0m\u001b[0;34m\u001b[0m\u001b[0;34m\u001b[0m\u001b[0m\n",
            "\u001b[0;32m/usr/local/lib/python3.12/dist-packages/pandas/io/parsers/readers.py\u001b[0m in \u001b[0;36mread_csv\u001b[0;34m(filepath_or_buffer, sep, delimiter, header, names, index_col, usecols, dtype, engine, converters, true_values, false_values, skipinitialspace, skiprows, skipfooter, nrows, na_values, keep_default_na, na_filter, verbose, skip_blank_lines, parse_dates, infer_datetime_format, keep_date_col, date_parser, date_format, dayfirst, cache_dates, iterator, chunksize, compression, thousands, decimal, lineterminator, quotechar, quoting, doublequote, escapechar, comment, encoding, encoding_errors, dialect, on_bad_lines, delim_whitespace, low_memory, memory_map, float_precision, storage_options, dtype_backend)\u001b[0m\n\u001b[1;32m   1024\u001b[0m     \u001b[0mkwds\u001b[0m\u001b[0;34m.\u001b[0m\u001b[0mupdate\u001b[0m\u001b[0;34m(\u001b[0m\u001b[0mkwds_defaults\u001b[0m\u001b[0;34m)\u001b[0m\u001b[0;34m\u001b[0m\u001b[0;34m\u001b[0m\u001b[0m\n\u001b[1;32m   1025\u001b[0m \u001b[0;34m\u001b[0m\u001b[0m\n\u001b[0;32m-> 1026\u001b[0;31m     \u001b[0;32mreturn\u001b[0m \u001b[0m_read\u001b[0m\u001b[0;34m(\u001b[0m\u001b[0mfilepath_or_buffer\u001b[0m\u001b[0;34m,\u001b[0m \u001b[0mkwds\u001b[0m\u001b[0;34m)\u001b[0m\u001b[0;34m\u001b[0m\u001b[0;34m\u001b[0m\u001b[0m\n\u001b[0m\u001b[1;32m   1027\u001b[0m \u001b[0;34m\u001b[0m\u001b[0m\n\u001b[1;32m   1028\u001b[0m \u001b[0;34m\u001b[0m\u001b[0m\n",
            "\u001b[0;32m/usr/local/lib/python3.12/dist-packages/pandas/io/parsers/readers.py\u001b[0m in \u001b[0;36m_read\u001b[0;34m(filepath_or_buffer, kwds)\u001b[0m\n\u001b[1;32m    618\u001b[0m \u001b[0;34m\u001b[0m\u001b[0m\n\u001b[1;32m    619\u001b[0m     \u001b[0;31m# Create the parser.\u001b[0m\u001b[0;34m\u001b[0m\u001b[0;34m\u001b[0m\u001b[0m\n\u001b[0;32m--> 620\u001b[0;31m     \u001b[0mparser\u001b[0m \u001b[0;34m=\u001b[0m \u001b[0mTextFileReader\u001b[0m\u001b[0;34m(\u001b[0m\u001b[0mfilepath_or_buffer\u001b[0m\u001b[0;34m,\u001b[0m \u001b[0;34m**\u001b[0m\u001b[0mkwds\u001b[0m\u001b[0;34m)\u001b[0m\u001b[0;34m\u001b[0m\u001b[0;34m\u001b[0m\u001b[0m\n\u001b[0m\u001b[1;32m    621\u001b[0m \u001b[0;34m\u001b[0m\u001b[0m\n\u001b[1;32m    622\u001b[0m     \u001b[0;32mif\u001b[0m \u001b[0mchunksize\u001b[0m \u001b[0;32mor\u001b[0m \u001b[0miterator\u001b[0m\u001b[0;34m:\u001b[0m\u001b[0;34m\u001b[0m\u001b[0;34m\u001b[0m\u001b[0m\n",
            "\u001b[0;32m/usr/local/lib/python3.12/dist-packages/pandas/io/parsers/readers.py\u001b[0m in \u001b[0;36m__init__\u001b[0;34m(self, f, engine, **kwds)\u001b[0m\n\u001b[1;32m   1618\u001b[0m \u001b[0;34m\u001b[0m\u001b[0m\n\u001b[1;32m   1619\u001b[0m         \u001b[0mself\u001b[0m\u001b[0;34m.\u001b[0m\u001b[0mhandles\u001b[0m\u001b[0;34m:\u001b[0m \u001b[0mIOHandles\u001b[0m \u001b[0;34m|\u001b[0m \u001b[0;32mNone\u001b[0m \u001b[0;34m=\u001b[0m \u001b[0;32mNone\u001b[0m\u001b[0;34m\u001b[0m\u001b[0;34m\u001b[0m\u001b[0m\n\u001b[0;32m-> 1620\u001b[0;31m         \u001b[0mself\u001b[0m\u001b[0;34m.\u001b[0m\u001b[0m_engine\u001b[0m \u001b[0;34m=\u001b[0m \u001b[0mself\u001b[0m\u001b[0;34m.\u001b[0m\u001b[0m_make_engine\u001b[0m\u001b[0;34m(\u001b[0m\u001b[0mf\u001b[0m\u001b[0;34m,\u001b[0m \u001b[0mself\u001b[0m\u001b[0;34m.\u001b[0m\u001b[0mengine\u001b[0m\u001b[0;34m)\u001b[0m\u001b[0;34m\u001b[0m\u001b[0;34m\u001b[0m\u001b[0m\n\u001b[0m\u001b[1;32m   1621\u001b[0m \u001b[0;34m\u001b[0m\u001b[0m\n\u001b[1;32m   1622\u001b[0m     \u001b[0;32mdef\u001b[0m \u001b[0mclose\u001b[0m\u001b[0;34m(\u001b[0m\u001b[0mself\u001b[0m\u001b[0;34m)\u001b[0m \u001b[0;34m->\u001b[0m \u001b[0;32mNone\u001b[0m\u001b[0;34m:\u001b[0m\u001b[0;34m\u001b[0m\u001b[0;34m\u001b[0m\u001b[0m\n",
            "\u001b[0;32m/usr/local/lib/python3.12/dist-packages/pandas/io/parsers/readers.py\u001b[0m in \u001b[0;36m_make_engine\u001b[0;34m(self, f, engine)\u001b[0m\n\u001b[1;32m   1878\u001b[0m                 \u001b[0;32mif\u001b[0m \u001b[0;34m\"b\"\u001b[0m \u001b[0;32mnot\u001b[0m \u001b[0;32min\u001b[0m \u001b[0mmode\u001b[0m\u001b[0;34m:\u001b[0m\u001b[0;34m\u001b[0m\u001b[0;34m\u001b[0m\u001b[0m\n\u001b[1;32m   1879\u001b[0m                     \u001b[0mmode\u001b[0m \u001b[0;34m+=\u001b[0m \u001b[0;34m\"b\"\u001b[0m\u001b[0;34m\u001b[0m\u001b[0;34m\u001b[0m\u001b[0m\n\u001b[0;32m-> 1880\u001b[0;31m             self.handles = get_handle(\n\u001b[0m\u001b[1;32m   1881\u001b[0m                 \u001b[0mf\u001b[0m\u001b[0;34m,\u001b[0m\u001b[0;34m\u001b[0m\u001b[0;34m\u001b[0m\u001b[0m\n\u001b[1;32m   1882\u001b[0m                 \u001b[0mmode\u001b[0m\u001b[0;34m,\u001b[0m\u001b[0;34m\u001b[0m\u001b[0;34m\u001b[0m\u001b[0m\n",
            "\u001b[0;32m/usr/local/lib/python3.12/dist-packages/pandas/io/common.py\u001b[0m in \u001b[0;36mget_handle\u001b[0;34m(path_or_buf, mode, encoding, compression, memory_map, is_text, errors, storage_options)\u001b[0m\n\u001b[1;32m    880\u001b[0m         \u001b[0;32melse\u001b[0m\u001b[0;34m:\u001b[0m\u001b[0;34m\u001b[0m\u001b[0;34m\u001b[0m\u001b[0m\n\u001b[1;32m    881\u001b[0m             \u001b[0;31m# Binary mode\u001b[0m\u001b[0;34m\u001b[0m\u001b[0;34m\u001b[0m\u001b[0m\n\u001b[0;32m--> 882\u001b[0;31m             \u001b[0mhandle\u001b[0m \u001b[0;34m=\u001b[0m \u001b[0mopen\u001b[0m\u001b[0;34m(\u001b[0m\u001b[0mhandle\u001b[0m\u001b[0;34m,\u001b[0m \u001b[0mioargs\u001b[0m\u001b[0;34m.\u001b[0m\u001b[0mmode\u001b[0m\u001b[0;34m)\u001b[0m\u001b[0;34m\u001b[0m\u001b[0;34m\u001b[0m\u001b[0m\n\u001b[0m\u001b[1;32m    883\u001b[0m         \u001b[0mhandles\u001b[0m\u001b[0;34m.\u001b[0m\u001b[0mappend\u001b[0m\u001b[0;34m(\u001b[0m\u001b[0mhandle\u001b[0m\u001b[0;34m)\u001b[0m\u001b[0;34m\u001b[0m\u001b[0;34m\u001b[0m\u001b[0m\n\u001b[1;32m    884\u001b[0m \u001b[0;34m\u001b[0m\u001b[0m\n",
            "\u001b[0;31mFileNotFoundError\u001b[0m: [Errno 2] No such file or directory: 'Resume.csv'"
          ]
        }
      ]
    },
    {
      "cell_type": "markdown",
      "id": "ee8e5b21",
      "metadata": {
        "id": "ee8e5b21"
      },
      "source": [
        "\n",
        "## Helper functions\n"
      ]
    },
    {
      "cell_type": "code",
      "execution_count": null,
      "id": "6a4ef3ea",
      "metadata": {
        "id": "6a4ef3ea"
      },
      "outputs": [],
      "source": [
        "\n",
        "BASIC_STOPWORDS = {\n",
        "    \"the\",\"and\",\"for\",\"with\",\"that\",\"this\",\"from\",\"are\",\"was\",\"were\",\"been\",\"being\",\"will\",\"would\",\"shall\",\"should\",\n",
        "    \"can\",\"could\",\"a\",\"an\",\"in\",\"on\",\"at\",\"by\",\"to\",\"of\",\"or\",\"as\",\"is\",\"am\",\"be\",\"it\",\"its\",\"into\",\"over\",\"due\",\n",
        "    \"than\",\"then\",\"but\",\"so\",\"if\",\"not\",\"no\",\"yes\",\"we\",\"our\",\"you\",\"your\",\"they\",\"their\",\"he\",\"she\",\"him\",\"her\",\n",
        "    \"them\",\"i\",\"me\",\"my\",\"mine\",\"us\",\"about\",\"within\",\"per\",\"using\",\"use\",\"used\",\"via\",\"etc\",\"such\",\"include\",\n",
        "    \"including\",\"through\",\"across\",\"under\",\"up\",\"down\",\"out\",\"off\",\"new\",\"make\",\"made\",\"also\",\"may\",\"must\",\"strong\",\n",
        "    \"skills\",\"skill\",\"responsible\",\"responsibility\",\"responsibilities\",\"experience\",\"experienced\",\"years\",\"year\",\n",
        "    \"work\",\"working\",\"company\",\"companies\",\"project\",\"projects\",\"objective\",\"summary\",\"professional\",\"proficient\",\n",
        "    \"knowledge\",\"excellent\",\"good\",\"great\",\"highly\",\"ability\",\"abilities\",\"team\",\"teams\",\"member\",\"members\",\"detail\",\n",
        "    \"details\",\"detailed\",\"analysis\",\"analyze\",\"analyst\",\"manager\",\"management\",\"lead\",\"led\",\"leadership\",\"support\",\n",
        "    \"supported\",\"supporting\",\"develop\",\"developed\",\"development\",\"design\",\"designed\",\"implement\",\"implemented\",\n",
        "    \"implementation\",\"maintain\",\"maintained\",\"maintenance\",\"deliver\",\"delivered\",\"delivery\",\"result\",\"results\"\n",
        "}\n",
        "\n",
        "def regex_tokenize(text: str) -> List[str]:\n",
        "    return [t for t in re.split(r\"[^A-Za-z0-9]+\", text) if t]\n",
        "\n",
        "def clean_html(raw_html: str) -> str:\n",
        "    if pd.isna(raw_html):\n",
        "        return \"\"\n",
        "    return re.sub(r\"<[^>]+>\", \" \", raw_html)\n",
        "\n",
        "def basic_text_clean(text: str) -> str:\n",
        "    if pd.isna(text):\n",
        "        return \"\"\n",
        "    text = text.replace(\"\\\\xa0\", \" \")\n",
        "    text = re.sub(r\"http\\\\S+|www\\\\.\\\\S+\", \" \", text)\n",
        "    text = re.sub(r\"\\\\b[\\\\w\\\\.-]+@[\\\\w\\\\.-]+\\\\.\\\\w+\\\\b\", \" \", text)\n",
        "    text = text.encode(\"ascii\", \"ignore\").decode()\n",
        "    text = re.sub(r\"[^A-Za-z0-9\\\\s\\\\.\\\\,\\\\!\\\\?\\\\-]\", \" \", text)\n",
        "    text = text.lower()\n",
        "    text = re.sub(r\"\\\\s+\", \" \", text).strip()\n",
        "    return text\n",
        "\n",
        "def normalize_tokens(text: str, stop_words: set) -> List[str]:\n",
        "    toks = regex_tokenize(text)\n",
        "    return [t for t in toks if t not in stop_words and len(t) > 2]\n",
        "\n",
        "def eda_plots(df: pd.DataFrame, out_dir: str, text_col: str, label_col: str = None) -> None:\n",
        "    os.makedirs(out_dir, exist_ok=True)\n",
        "\n",
        "    lengths = df[text_col].fillna(\"\").str.split().map(len)\n",
        "    plt.figure()\n",
        "    lengths.hist(bins=40)\n",
        "    plt.title(\"Resume token length distribution\")\n",
        "    plt.xlabel(\"tokens\")\n",
        "    plt.ylabel(\"count\")\n",
        "    plt.tight_layout()\n",
        "    plt.savefig(os.path.join(out_dir, \"eda_resume_length.png\"))\n",
        "    plt.close()\n",
        "\n",
        "    if label_col and label_col in df.columns:\n",
        "        plt.figure()\n",
        "        df[label_col].value_counts().sort_values(ascending=True).plot(kind=\"barh\")\n",
        "        plt.title(\"Category distribution\")\n",
        "        plt.xlabel(\"count\")\n",
        "        plt.ylabel(\"category\")\n",
        "        plt.tight_layout()\n",
        "        plt.savefig(os.path.join(out_dir, \"eda_category_distribution.png\"))\n",
        "        plt.close()\n",
        "\n",
        "def stratified_split_if_possible(df: pd.DataFrame, test_size: float = 0.2, random_state: int = 42) -> Tuple[pd.DataFrame, pd.DataFrame]:\n",
        "    try:\n",
        "        if \"Category\" in df.columns and df[\"Category\"].notna().all():\n",
        "            from sklearn.model_selection import train_test_split as sk_split\n",
        "            return sk_split(df, test_size=test_size, random_state=random_state, stratify=df[\"Category\"])\n",
        "    except Exception as e:\n",
        "        print(\"Stratified split failed, falling back to random split. Reason:\", e)\n",
        "\n",
        "    df = df.sample(frac=1.0, random_state=random_state).reset_index(drop=True)\n",
        "    cut = int(len(df) * (1.0 - test_size))\n",
        "    return df.iloc[:cut].copy(), df.iloc[cut:].copy()\n"
      ]
    },
    {
      "cell_type": "markdown",
      "id": "f96580b5",
      "metadata": {
        "id": "f96580b5"
      },
      "source": [
        "\n",
        "## Part A data understanding\n",
        "\n",
        "Load data and preview structure. Create a compact data dictionary. Check missingness and duplicates.\n"
      ]
    },
    {
      "cell_type": "code",
      "execution_count": null,
      "id": "32827ce0",
      "metadata": {
        "id": "32827ce0"
      },
      "outputs": [],
      "source": [
        "\n",
        "assert os.path.exists(INPUT_CSV), f\"File not found at {INPUT_CSV}. Update INPUT_CSV above.\"\n",
        "raw = pd.read_csv(INPUT_CSV, encoding=\"utf-8\", engine=\"python\")\n",
        "\n",
        "display(raw.head())\n",
        "print(\"shape:\", raw.shape)\n",
        "print(\"columns:\", list(raw.columns))\n",
        "\n",
        "dd = pd.DataFrame({\n",
        "    \"column\": raw.columns,\n",
        "    \"dtype\": [str(raw[c].dtype) for c in raw.columns],\n",
        "    \"non_null\": [int(raw[c].notna().sum()) for c in raw.columns],\n",
        "    \"nulls\": [int(raw[c].isna().sum()) for c in raw.columns],\n",
        "    \"example\": [str(raw[c].dropna().iloc[0]) if raw[c].notna().any() else \"\" for c in raw.columns],\n",
        "})\n",
        "dd\n"
      ]
    },
    {
      "cell_type": "code",
      "execution_count": null,
      "id": "f0a24688",
      "metadata": {
        "id": "f0a24688"
      },
      "outputs": [],
      "source": [
        "\n",
        "missing_pct = raw.isna().mean().sort_values(ascending=False) * 100.0\n",
        "dup_rows = raw.duplicated().sum()\n",
        "dup_by_text = 0\n",
        "text_cols = [c for c in [\"Resume_str\", \"Resume_html\", \"Resume\", \"resume\", \"text\"] if c in raw.columns]\n",
        "if text_cols:\n",
        "    dup_by_text = raw.duplicated(subset=[text_cols[0]]).sum()\n",
        "\n",
        "print(\"total duplicate rows:\", dup_rows)\n",
        "print(\"duplicate rows by text col:\", dup_by_text)\n",
        "missing_pct.to_frame(\"missing_percent\")\n"
      ]
    },
    {
      "cell_type": "markdown",
      "id": "fce56d26",
      "metadata": {
        "id": "fce56d26"
      },
      "source": [
        "\n",
        "## Part B data preparation\n",
        "\n",
        "Pick text column, strip html if needed, normalize text, tokenize, compute token length, optionally encode labels.\n"
      ]
    },
    {
      "cell_type": "code",
      "execution_count": null,
      "id": "aa654191",
      "metadata": {
        "id": "aa654191"
      },
      "outputs": [],
      "source": [
        "\n",
        "text_col = None\n",
        "for cand in [\"Resume_str\", \"Resume_html\", \"Resume\", \"resume\", \"text\"]:\n",
        "    if cand in raw.columns:\n",
        "        text_col = cand\n",
        "        break\n",
        "assert text_col is not None, \"Could not find a resume text column\"\n",
        "\n",
        "df = raw.copy()\n",
        "if text_col == \"Resume_html\":\n",
        "    df[\"resume_text\"] = df[\"Resume_html\"].map(clean_html)\n",
        "else:\n",
        "    df[\"resume_text\"] = df[text_col].astype(str)\n",
        "\n",
        "before = len(df)\n",
        "df = df.drop_duplicates(subset=[\"resume_text\"]).reset_index(drop=True)\n",
        "removed_dups = before - len(df)\n",
        "\n",
        "df[\"resume_text\"] = df[\"resume_text\"].fillna(\"\")\n",
        "df = df[df[\"resume_text\"].str.strip().ne(\"\")].reset_index(drop=True)\n",
        "\n",
        "df[\"clean_text\"] = df[\"resume_text\"].map(basic_text_clean)\n",
        "\n",
        "stop_words = set(BASIC_STOPWORDS)\n",
        "df[\"tokens\"] = df[\"clean_text\"].map(lambda t: normalize_tokens(t, stop_words))\n",
        "\n",
        "df[\"token_len\"] = df[\"tokens\"].map(len)\n",
        "\n",
        "label_map = None\n",
        "if \"Category\" in df.columns:\n",
        "    df[\"Category\"] = df[\"Category\"].astype(str).str.strip()\n",
        "    categories = sorted(df[\"Category\"].unique())\n",
        "    label_map = {c: i for i, c in enumerate(categories)}\n",
        "    df[\"label\"] = df[\"Category\"].map(label_map)\n",
        "\n",
        "display(df.head())\n",
        "print(\"rows after cleaning:\", len(df))\n",
        "print(\"duplicates removed:\", removed_dups)\n"
      ]
    },
    {
      "cell_type": "markdown",
      "id": "fa985f2c",
      "metadata": {
        "id": "fa985f2c"
      },
      "source": [
        "\n",
        "## Part C exploratory plots\n"
      ]
    },
    {
      "cell_type": "code",
      "execution_count": null,
      "id": "264510c3",
      "metadata": {
        "id": "264510c3"
      },
      "outputs": [],
      "source": [
        "\n",
        "eda_plots(df, OUT_DIR, text_col=\"clean_text\", label_col=\"Category\" if \"Category\" in df.columns else None)\n",
        "print(\"Saved plots to:\", OUT_DIR)\n"
      ]
    },
    {
      "cell_type": "markdown",
      "id": "10cec4a5",
      "metadata": {
        "id": "10cec4a5"
      },
      "source": [
        "\n",
        "## Part D save outputs\n",
        "Create cleaned data, sample, stratified train and test splits, and a compact JSON report.\n"
      ]
    },
    {
      "cell_type": "code",
      "execution_count": null,
      "id": "3dba70fa",
      "metadata": {
        "id": "3dba70fa"
      },
      "outputs": [],
      "source": [
        "\n",
        "core_cols = []\n",
        "if \"ID\" in df.columns:\n",
        "    core_cols.append(\"ID\")\n",
        "if \"Category\" in df.columns:\n",
        "    core_cols.extend([\"Category\", \"label\"])\n",
        "core_cols.extend([\"clean_text\", \"token_len\", \"tokens\"])\n",
        "df_out = df[core_cols]\n",
        "\n",
        "clean_path = os.path.join(OUT_DIR, \"Resume_clean.csv\")\n",
        "train_path = os.path.join(OUT_DIR, \"Resume_train.csv\")\n",
        "test_path  = os.path.join(OUT_DIR, \"Resume_test.csv\")\n",
        "sample_path = os.path.join(OUT_DIR, \"Resume_sample.csv\")\n",
        "\n",
        "df_out.to_csv(clean_path, index=False)\n",
        "df_out.sample(n=min(25, len(df_out)), random_state=42).to_csv(sample_path, index=False)\n",
        "\n",
        "train_df, test_df = stratified_split_if_possible(df_out, test_size=0.2, random_state=42)\n",
        "train_df.to_csv(train_path, index=False)\n",
        "test_df.to_csv(test_path, index=False)\n",
        "\n",
        "if label_map is not None:\n",
        "    with open(os.path.join(OUT_DIR, \"label_map.json\"), \"w\", encoding=\"utf-8\") as f:\n",
        "        json.dump(label_map, f, indent=2)\n",
        "\n",
        "report = {\n",
        "    \"rows_after_cleaning\": int(len(df_out)),\n",
        "    \"duplicates_removed\": int(removed_dups),\n",
        "    \"avg_token_length\": float(df_out[\"token_len\"].mean()),\n",
        "    \"median_token_length\": float(df_out[\"token_len\"].median()),\n",
        "    \"label_count\": int(len(label_map)) if label_map is not None else None\n",
        "}\n",
        "with open(os.path.join(OUT_DIR, \"resume_cleaning_report.json\"), \"w\", encoding=\"utf-8\") as f:\n",
        "    json.dump(report, f, indent=2)\n",
        "\n",
        "print(\"Saved:\")\n",
        "print(clean_path)\n",
        "print(train_path)\n",
        "print(test_path)\n",
        "print(sample_path)\n",
        "if label_map is not None:\n",
        "    print(os.path.join(OUT_DIR, \"label_map.json\"))\n",
        "print(os.path.join(OUT_DIR, \"resume_cleaning_report.json\"))\n"
      ]
    },
    {
      "cell_type": "markdown",
      "id": "38875816",
      "metadata": {
        "id": "38875816"
      },
      "source": [
        "\n",
        "## Part E checklist\n",
        "\n",
        "- Data loaded and previewed  \n",
        "- Data dictionary created  \n",
        "- Duplicates removed and missingness reviewed  \n",
        "- Text normalized and tokenized  \n",
        "- Basic class balance check  \n",
        "- Clean CSV and splits saved  \n",
        "- EDA images generated  \n",
        "- Report JSON generated  \n"
      ]
    }
  ],
  "metadata": {
    "colab": {
      "provenance": [],
      "include_colab_link": true
    },
    "language_info": {
      "name": "python"
    },
    "kernelspec": {
      "name": "python3",
      "display_name": "Python 3"
    }
  },
  "nbformat": 4,
  "nbformat_minor": 5
}